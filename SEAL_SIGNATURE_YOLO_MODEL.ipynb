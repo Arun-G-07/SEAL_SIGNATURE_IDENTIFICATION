{
  "nbformat": 4,
  "nbformat_minor": 0,
  "metadata": {
    "colab": {
      "provenance": [],
      "gpuType": "T4"
    },
    "kernelspec": {
      "name": "python3",
      "display_name": "Python 3"
    },
    "language_info": {
      "name": "python"
    },
    "accelerator": "GPU"
  },
  "cells": [
    {
      "cell_type": "markdown",
      "source": [
        "**IMPORTING DEPENDENCIES**"
      ],
      "metadata": {
        "id": "HMscGiBPsRUP"
      }
    },
    {
      "cell_type": "code",
      "execution_count": 1,
      "metadata": {
        "id": "UnM7Mv7AsP7N",
        "colab": {
          "base_uri": "https://localhost:8080/"
        },
        "outputId": "45827bcd-d547-40af-a964-254e0c4c6ea3"
      },
      "outputs": [
        {
          "output_type": "stream",
          "name": "stderr",
          "text": [
            "/usr/local/lib/python3.11/dist-packages/albumentations/__init__.py:28: UserWarning: A new version of Albumentations is available: '2.0.7' (you have '2.0.6'). Upgrade using: pip install -U albumentations. To disable automatic update checks, set the environment variable NO_ALBUMENTATIONS_UPDATE to 1.\n",
            "  check_for_updates()\n"
          ]
        }
      ],
      "source": [
        "import torch\n",
        "import torch.nn as nn\n",
        "import torch.optim as optim\n",
        "\n",
        "from PIL import Image, ImageFile\n",
        "ImageFile.LOAD_TRUNCATED_IMAGES = True\n",
        "\n",
        "import albumentations as A\n",
        "from albumentations.pytorch import ToTensorV2\n",
        "import cv2\n",
        "\n",
        "import os\n",
        "import numpy as np\n",
        "import pandas as pd\n",
        "\n",
        "import matplotlib.pyplot as plt\n",
        "import matplotlib.patches as patches\n",
        "\n",
        "from tqdm import tqdm"
      ]
    },
    {
      "cell_type": "markdown",
      "source": [
        "**DEFINING SOME HELPER FUNCTIONS**\n"
      ],
      "metadata": {
        "id": "HZFkf-E0shdQ"
      }
    },
    {
      "cell_type": "markdown",
      "source": [
        "**1. INTERSECTION OVER UNION**"
      ],
      "metadata": {
        "id": "emYY8fNwQpMl"
      }
    },
    {
      "cell_type": "code",
      "source": [
        "# Defining a function to calculate Intersection over Union (IoU)\n",
        "def iou(box1, box2, is_pred=True):\n",
        "    if is_pred:\n",
        "        # IoU score for prediction and label\n",
        "        # box1 (prediction) and box2 (label) are both in [x, y, width, height] format\n",
        "\n",
        "        # Box coordinates of prediction\n",
        "        b1_x1 = box1[..., 0:1] - box1[..., 2:3] / 2\n",
        "        b1_y1 = box1[..., 1:2] - box1[..., 3:4] / 2\n",
        "        b1_x2 = box1[..., 0:1] + box1[..., 2:3] / 2\n",
        "        b1_y2 = box1[..., 1:2] + box1[..., 3:4] / 2\n",
        "\n",
        "        # Box coordinates of ground truth\n",
        "        b2_x1 = box2[..., 0:1] - box2[..., 2:3] / 2\n",
        "        b2_y1 = box2[..., 1:2] - box2[..., 3:4] / 2\n",
        "        b2_x2 = box2[..., 0:1] + box2[..., 2:3] / 2\n",
        "        b2_y2 = box2[..., 1:2] + box2[..., 3:4] / 2\n",
        "\n",
        "        # Get the coordinates of the intersection rectangle\n",
        "        x1 = torch.max(b1_x1, b2_x1)\n",
        "        y1 = torch.max(b1_y1, b2_y1)\n",
        "        x2 = torch.min(b1_x2, b2_x2)\n",
        "        y2 = torch.min(b1_y2, b2_y2)\n",
        "        # Make sure the intersection is at least 0\n",
        "        intersection = (x2 - x1).clamp(0) * (y2 - y1).clamp(0)\n",
        "\n",
        "        # Calculate the union area\n",
        "        box1_area = abs((b1_x2 - b1_x1) * (b1_y2 - b1_y1))\n",
        "        box2_area = abs((b2_x2 - b2_x1) * (b2_y2 - b2_y1))\n",
        "        union = box1_area + box2_area - intersection\n",
        "\n",
        "        # Calculate the IoU score\n",
        "        epsilon = 1e-6\n",
        "        iou_score = intersection / (union + epsilon)\n",
        "\n",
        "        # Return IoU score\n",
        "        return iou_score\n",
        "\n",
        "    else:\n",
        "        # IoU score based on width and height of bounding boxes\n",
        "\n",
        "        # Calculate intersection area\n",
        "        intersection_area = torch.min(box1[..., 0], box2[..., 0]) * \\\n",
        "                            torch.min(box1[..., 1], box2[..., 1])\n",
        "\n",
        "        # Calculate union area\n",
        "        box1_area = box1[..., 0] * box1[..., 1]\n",
        "        box2_area = box2[..., 0] * box2[..., 1]\n",
        "        union_area = box1_area + box2_area - intersection_area\n",
        "\n",
        "        # Calculate IoU score\n",
        "        iou_score = intersection_area / union_area\n",
        "\n",
        "        # Return IoU score\n",
        "        return iou_score"
      ],
      "metadata": {
        "id": "41QZPHT5syAP"
      },
      "execution_count": 2,
      "outputs": []
    },
    {
      "cell_type": "markdown",
      "source": [
        "**NON MAXIMUM SUPPRESION FUNCTION TO REMOVE OVERLAPPING BOUNDING BOXES**"
      ],
      "metadata": {
        "id": "jU0ojKa1s5Kg"
      }
    },
    {
      "cell_type": "code",
      "source": [
        "# Non-maximum suppression function to remove overlapping bounding boxes\n",
        "def nms(bboxes, iou_threshold, threshold):\n",
        "    # Filter out bounding boxes with confidence below the threshold.\n",
        "    bboxes = [box for box in bboxes if box[1] > threshold]\n",
        "\n",
        "    # Sort the bounding boxes by confidence in descending order.\n",
        "    bboxes = sorted(bboxes, key=lambda x: x[1], reverse=True)\n",
        "\n",
        "    # Initialize the list of bounding boxes after non-maximum suppression.\n",
        "    bboxes_nms = []\n",
        "\n",
        "    while bboxes:\n",
        "        # Get the first bounding box.\n",
        "        first_box = bboxes.pop(0)\n",
        "\n",
        "        # Iterate over the remaining bounding boxes.\n",
        "        for box in bboxes:\n",
        "        # If the bounding boxes do not overlap or if the first bounding box has\n",
        "        # a higher confidence, then add the second bounding box to the list of\n",
        "        # bounding boxes after non-maximum suppression.\n",
        "            if box[0] != first_box[0] or iou(\n",
        "                torch.tensor(first_box[2:]),\n",
        "                torch.tensor(box[2:]),\n",
        "            ) < iou_threshold:\n",
        "                # Check if box is not in bboxes_nms\n",
        "                if box not in bboxes_nms:\n",
        "                    # Add box to bboxes_nms\n",
        "                    bboxes_nms.append(box)\n",
        "\n",
        "    # Return bounding boxes after non-maximum suppression.\n",
        "    return bboxes_nms"
      ],
      "metadata": {
        "id": "BZ33p-uFtFIT"
      },
      "execution_count": 3,
      "outputs": []
    },
    {
      "cell_type": "markdown",
      "source": [
        "**CONVERT CELLS TO BOUNDING BOXES**"
      ],
      "metadata": {
        "id": "9WRD6mkjtJOG"
      }
    },
    {
      "cell_type": "code",
      "source": [
        "# Function to convert cells to bounding boxes\n",
        "def convert_cells_to_bboxes(predictions, anchors, s, is_predictions=True):\n",
        "    # Batch size used on predictions\n",
        "    batch_size = predictions.shape[0]\n",
        "    # Number of anchors\n",
        "    num_anchors = len(anchors)\n",
        "    # List of all the predictions\n",
        "    box_predictions = predictions[..., 1:5]\n",
        "\n",
        "    # If the input is predictions then we will pass the x and y coordinate\n",
        "    # through sigmoid function and width and height to exponent function and\n",
        "    # calculate the score and best class.\n",
        "    if is_predictions:\n",
        "        anchors = anchors.reshape(1, len(anchors), 1, 1, 2)\n",
        "        box_predictions[..., 0:2] = torch.sigmoid(box_predictions[..., 0:2])\n",
        "        box_predictions[..., 2:] = torch.exp(\n",
        "            box_predictions[..., 2:]) * anchors\n",
        "        scores = torch.sigmoid(predictions[..., 0:1])\n",
        "        best_class = torch.argmax(predictions[..., 5:], dim=-1).unsqueeze(-1)\n",
        "\n",
        "    # Else we will just calculate scores and best class.\n",
        "    else:\n",
        "        scores = predictions[..., 0:1]\n",
        "        best_class = predictions[..., 5:6]\n",
        "\n",
        "    # Calculate cell indices\n",
        "    cell_indices = (\n",
        "        torch.arange(s)\n",
        "        .repeat(predictions.shape[0], 3, s, 1)\n",
        "        .unsqueeze(-1)\n",
        "        .to(predictions.device)\n",
        "    )\n",
        "\n",
        "    # Calculate x, y, width and height with proper scaling\n",
        "    x = 1 / s * (box_predictions[..., 0:1] + cell_indices)\n",
        "    y = 1 / s * (box_predictions[..., 1:2] +\n",
        "                 cell_indices.permute(0, 1, 3, 2, 4))\n",
        "    width_height = 1 / s * box_predictions[..., 2:4]\n",
        "\n",
        "    # Concatinating the values and reshaping them in\n",
        "    # (BATCH_SIZE, num_anchors * S * S, 6) shape\n",
        "    converted_bboxes = torch.cat(\n",
        "        (best_class, scores, x, y, width_height), dim=-1\n",
        "    ).reshape(batch_size, num_anchors * s * s, 6)\n",
        "\n",
        "    # Returning the reshaped and converted bounding box list\n",
        "    return converted_bboxes.tolist()"
      ],
      "metadata": {
        "id": "a1CjD4EetPX9"
      },
      "execution_count": 4,
      "outputs": []
    },
    {
      "cell_type": "markdown",
      "source": [
        "**DEFINE SOME CONSTANTS**"
      ],
      "metadata": {
        "id": "EXRNZ0FbtfjG"
      }
    },
    {
      "cell_type": "code",
      "source": [
        "# Device\n",
        "device = \"cuda\" if torch.cuda.is_available() else \"cpu\"\n",
        "\n",
        "# Load and save model variable\n",
        "load_model = False\n",
        "save_model = True\n",
        "\n",
        "# model checkpoint file name\n",
        "checkpoint_file = \"checkpoint.pth.tar\"\n",
        "\n",
        "# Anchor boxes for each feature map scaled between 0 and 1\n",
        "# 3 feature maps at 3 different scales based on YOLOv3 paper\n",
        "ANCHORS = [\n",
        "    [(0.28, 0.22), (0.38, 0.48), (0.9, 0.78)],\n",
        "    [(0.07, 0.15), (0.15, 0.11), (0.14, 0.29)],\n",
        "    [(0.02, 0.03), (0.04, 0.07), (0.08, 0.06)],\n",
        "]\n",
        "\n",
        "# Batch size for training\n",
        "batch_size = 12\n",
        "\n",
        "# Learning rate for training\n",
        "learning_rate = 1e-5\n",
        "\n",
        "# Number of epochs for training\n",
        "epochs = 100\n",
        "\n",
        "# Image size\n",
        "image_size = 416\n",
        "\n",
        "# Grid cell sizes\n",
        "s = [image_size // 32, image_size // 16, image_size // 8]\n",
        "\n",
        "# Class labels\n",
        "# class_labels = [\n",
        "#     \"aeroplane\", \"bicycle\", \"bird\", \"boat\", \"bottle\", \"bus\", \"car\", \"cat\",\n",
        "#     \"chair\", \"cow\", \"diningtable\", \"dog\", \"horse\", \"motorbike\", \"person\",\n",
        "#     \"pottedplant\", \"sheep\", \"sofa\", \"train\", \"tvmonitor\"\n",
        "# ]\n",
        "class_labels = [\"signature\",\"seal\"]"
      ],
      "metadata": {
        "id": "EyZq_fx-tkPC"
      },
      "execution_count": 5,
      "outputs": []
    },
    {
      "cell_type": "code",
      "source": [
        "#Check for GPU\n",
        "device"
      ],
      "metadata": {
        "colab": {
          "base_uri": "https://localhost:8080/",
          "height": 35
        },
        "id": "00BwI0o9S7Vb",
        "outputId": "2be076b3-4d3b-4adc-dc78-e5a88780cd1e"
      },
      "execution_count": 6,
      "outputs": [
        {
          "output_type": "execute_result",
          "data": {
            "text/plain": [
              "'cpu'"
            ],
            "application/vnd.google.colaboratory.intrinsic+json": {
              "type": "string"
            }
          },
          "metadata": {},
          "execution_count": 6
        }
      ]
    },
    {
      "cell_type": "markdown",
      "source": [
        "**PLOT IMAGES WITH BOUNDING BOXES AND CLASS LABELS**"
      ],
      "metadata": {
        "id": "f9nU9d5XtoIc"
      }
    },
    {
      "cell_type": "code",
      "source": [
        "# Function to plot images with bounding boxes and class labels\n",
        "def plot_image(image, boxes):\n",
        "    # Getting the color map from matplotlib\n",
        "    colour_map = plt.get_cmap(\"tab20b\")\n",
        "    # Getting 20 different colors from the color map for 20 different classes\n",
        "    colors = [colour_map(i) for i in np.linspace(0, 1, len(class_labels))]\n",
        "\n",
        "    # Reading the image with OpenCV\n",
        "    img = np.array(image)\n",
        "    # Getting the height and width of the image\n",
        "    h, w, _ = img.shape\n",
        "\n",
        "    # Create figure and axes\n",
        "    fig, ax = plt.subplots(1)\n",
        "\n",
        "    # Add image to plot\n",
        "    ax.imshow(img)\n",
        "\n",
        "    # Plotting the bounding boxes and labels over the image\n",
        "    for box in boxes:\n",
        "        # Get the class from the box\n",
        "        class_pred = box[0]\n",
        "        # Get the center x and y coordinates\n",
        "        box = box[2:]\n",
        "        # Get the upper left corner coordinates\n",
        "        upper_left_x = box[0] - box[2] / 2\n",
        "        upper_left_y = box[1] - box[3] / 2\n",
        "\n",
        "        # Create a Rectangle patch with the bounding box\n",
        "        rect = patches.Rectangle(\n",
        "            (upper_left_x * w, upper_left_y * h),\n",
        "            box[2] * w,\n",
        "            box[3] * h,\n",
        "            linewidth=2,\n",
        "            edgecolor=colors[int(class_pred)],\n",
        "            facecolor=\"none\",\n",
        "        )\n",
        "\n",
        "        # Add the patch to the Axes\n",
        "        ax.add_patch(rect)\n",
        "\n",
        "        # Add class name to the patch\n",
        "        plt.text(\n",
        "            upper_left_x * w,\n",
        "            upper_left_y * h,\n",
        "            s=class_labels[int(class_pred)],\n",
        "            color=\"white\",\n",
        "            verticalalignment=\"top\",\n",
        "            bbox={\"color\": colors[int(class_pred)], \"pad\": 0},\n",
        "        )\n",
        "\n",
        "    # Display the plot\n",
        "    plt.show()"
      ],
      "metadata": {
        "id": "tMCfq3b6tuj1"
      },
      "execution_count": 7,
      "outputs": []
    },
    {
      "cell_type": "markdown",
      "source": [
        "**SAVE CHECKPOINT**"
      ],
      "metadata": {
        "id": "vkBx0HXTtwnF"
      }
    },
    {
      "cell_type": "code",
      "source": [
        "# Function to save checkpoint\n",
        "def save_checkpoint(model, optimizer, filename=\"my_checkpoint.pth.tar\"):\n",
        "    print(\"==> Saving checkpoint\")\n",
        "    checkpoint = {\n",
        "        \"state_dict\": model.state_dict(),\n",
        "        \"optimizer\": optimizer.state_dict(),\n",
        "    }\n",
        "    torch.save(checkpoint, filename)"
      ],
      "metadata": {
        "id": "EsPot19dt0ll"
      },
      "execution_count": 40,
      "outputs": []
    },
    {
      "cell_type": "markdown",
      "source": [
        "**LOAD CHECKPOINT**"
      ],
      "metadata": {
        "id": "cKf9yaFBt2YE"
      }
    },
    {
      "cell_type": "code",
      "source": [
        "# Function to load checkpoint\n",
        "def load_checkpoint(checkpoint_file, model, optimizer, lr):\n",
        "    print(\"==> Loading checkpoint\")\n",
        "    checkpoint = torch.load(checkpoint_file, map_location=device)\n",
        "    model.load_state_dict(checkpoint[\"state_dict\"])\n",
        "    optimizer.load_state_dict(checkpoint[\"optimizer\"])\n",
        "\n",
        "    for param_group in optimizer.param_groups:\n",
        "        param_group[\"lr\"] = lr"
      ],
      "metadata": {
        "id": "vBvs54B-t6cq"
      },
      "execution_count": 9,
      "outputs": []
    },
    {
      "cell_type": "markdown",
      "source": [
        "**DATASET LOADING**"
      ],
      "metadata": {
        "id": "E61veYEYt8nx"
      }
    },
    {
      "cell_type": "code",
      "source": [
        "# Create a dataset class to load the images and labels from the folder\n",
        "\n",
        "import glob\n",
        "class Dataset(torch.utils.data.Dataset):\n",
        "    def __init__(\n",
        "        self, image_dir, label_dir, anchors,\n",
        "        image_size=416, grid_sizes=[13, 26, 52],\n",
        "        num_classes=2, transform=None\n",
        "    ):\n",
        "        # Read the csv file with image names and labels\n",
        "        # self.label_list = pd.read_csv(csv_file)\n",
        "        # Image and label directories\n",
        "        self.image_dir = image_dir\n",
        "        self.label_dir = label_dir\n",
        "        self.image_paths = sorted(glob.glob(os.path.join(image_dir, \"*.jpeg\")) + glob.glob(os.path.join(image_dir, \"*.jpg\")) + glob.glob(os.path.join(image_dir, \"*.png\")))\n",
        "        self.label_paths = sorted(glob.glob(os.path.join(label_dir, \"*.txt\")))\n",
        "        assert len(self.image_paths) == len(self.label_paths), \"Mismatch between images and labels.\"\n",
        "\n",
        "        # Image size\n",
        "        self.image_size = image_size\n",
        "        # Transformations\n",
        "        self.transform = transform\n",
        "        # Grid sizes for each scale\n",
        "        self.grid_sizes = grid_sizes\n",
        "        # Anchor boxes\n",
        "        self.anchors = torch.tensor(\n",
        "            anchors[0] + anchors[1] + anchors[2])\n",
        "        # Number of anchor boxes\n",
        "        self.num_anchors = self.anchors.shape[0]\n",
        "        # Number of anchor boxes per scale\n",
        "        self.num_anchors_per_scale = self.num_anchors // 3\n",
        "        # Number of classes\n",
        "        self.num_classes = num_classes\n",
        "        # Ignore IoU threshold\n",
        "        self.ignore_iou_thresh = 0.5\n",
        "\n",
        "\n",
        "    def __len__(self):\n",
        "        return len(self.image_paths)\n",
        "\n",
        "\n",
        "    def __getitem__(self, idx):\n",
        "        # Getting the label path\n",
        "        label_path = self.label_paths[idx]\n",
        "        # We are applying roll to move class label to the last column\n",
        "        # 5 columns: x, y, width, height, class_label\n",
        "        bboxes = np.roll(np.loadtxt(fname=label_path,\n",
        "                         delimiter=\" \", ndmin=2), 4, axis=1).tolist()\n",
        "\n",
        "        # Getting the image path\n",
        "        img_path = self.image_paths[idx]\n",
        "        image = np.array(Image.open(img_path).convert(\"RGB\"))\n",
        "\n",
        "        # Albumentations augmentations\n",
        "        if self.transform:\n",
        "            augs = self.transform(image=image, bboxes=bboxes)\n",
        "            image = augs[\"image\"]\n",
        "            bboxes = augs[\"bboxes\"]\n",
        "\n",
        "        # Below assumes 3 scale predictions (as paper) and same num of anchors per scale\n",
        "        # target : [probabilities, x, y, width, height, class_label]\n",
        "        targets = [torch.zeros((self.num_anchors_per_scale, s, s, 6))\n",
        "                   for s in self.grid_sizes]\n",
        "\n",
        "        # Identify anchor box and cell for each bounding box\n",
        "        for box in bboxes:\n",
        "            # Calculate iou of bounding box with anchor boxes\n",
        "            iou_anchors = iou(torch.tensor(box[2:4]),\n",
        "                              self.anchors,\n",
        "                              is_pred=False)\n",
        "            # Selecting the best anchor box\n",
        "            anchor_indices = iou_anchors.argsort(descending=True, dim=0)\n",
        "            x, y, width, height, class_label = box\n",
        "\n",
        "            # At each scale, assigning the bounding box to the\n",
        "            # best matching anchor box\n",
        "            has_anchor = [False] * 3\n",
        "            for anchor_idx in anchor_indices:\n",
        "                scale_idx = anchor_idx // self.num_anchors_per_scale\n",
        "                anchor_on_scale = anchor_idx % self.num_anchors_per_scale\n",
        "\n",
        "                # Identifying the grid size for the scale\n",
        "                s = self.grid_sizes[scale_idx]\n",
        "\n",
        "                # Identifying the cell to which the bounding box belongs\n",
        "                i, j = int(s * y), int(s * x)\n",
        "                anchor_taken = targets[scale_idx][anchor_on_scale, i, j, 0]\n",
        "\n",
        "                # Check if the anchor box is already assigned\n",
        "                if not anchor_taken and not has_anchor[scale_idx]:\n",
        "\n",
        "                    # Set the probability to 1\n",
        "                    targets[scale_idx][anchor_on_scale, i, j, 0] = 1\n",
        "\n",
        "                    # Calculating the center of the bounding box relative\n",
        "                    # to the cell\n",
        "                    x_cell, y_cell = s * x - j, s * y - i\n",
        "\n",
        "                    # Calculating the width and height of the bounding box\n",
        "                    # relative to the cell\n",
        "                    width_cell, height_cell = (width * s, height * s)\n",
        "\n",
        "                    # Idnetify the box coordinates\n",
        "                    box_coordinates = torch.tensor(\n",
        "                                        [x_cell, y_cell, width_cell,\n",
        "                                         height_cell]\n",
        "                                    )\n",
        "\n",
        "                    # Assigning the box coordinates to the target\n",
        "                    targets[scale_idx][anchor_on_scale, i, j, 1:5] = box_coordinates\n",
        "\n",
        "                    # Assigning the class label to the target\n",
        "                    targets[scale_idx][anchor_on_scale, i, j, 5] = int(class_label)\n",
        "\n",
        "                    # Set the anchor box as assigned for the scale\n",
        "                    has_anchor[scale_idx] = True\n",
        "\n",
        "                # If the anchor box is already assigned, check if the\n",
        "                # IoU is greater than the threshold\n",
        "                elif not anchor_taken and iou_anchors[anchor_idx] > self.ignore_iou_thresh:\n",
        "                    # Set the probability to -1 to ignore the anchor box\n",
        "                    targets[scale_idx][anchor_on_scale, i, j, 0] = -1\n",
        "\n",
        "        # Return the image and the target\n",
        "        return image, tuple(targets)\n"
      ],
      "metadata": {
        "id": "a-3e4JEauAsV"
      },
      "execution_count": 10,
      "outputs": []
    },
    {
      "cell_type": "markdown",
      "source": [
        "**DATA TRANSFORMATION**"
      ],
      "metadata": {
        "id": "Z9EQhb1SuC4Y"
      }
    },
    {
      "cell_type": "code",
      "source": [
        "# Transform for training\n",
        "train_transform = A.Compose(\n",
        "    [\n",
        "        # Rescale an image so that maximum side is equal to image_size\n",
        "        A.LongestMaxSize(max_size=image_size),\n",
        "        # Pad remaining areas with zeros\n",
        "        A.PadIfNeeded(\n",
        "            min_height=image_size, min_width=image_size, border_mode=cv2.BORDER_CONSTANT\n",
        "        ),\n",
        "        # Random color jittering\n",
        "        A.ColorJitter(\n",
        "            brightness=0.5, contrast=0.5,\n",
        "            saturation=0.5, hue=0.5, p=0.5\n",
        "        ),\n",
        "        # Flip the image horizontally\n",
        "        A.HorizontalFlip(p=0.5),\n",
        "        # Normalize the image\n",
        "        A.Normalize(\n",
        "            mean=[0, 0, 0], std=[1, 1, 1], max_pixel_value=255\n",
        "        ),\n",
        "        # Convert the image to PyTorch tensor\n",
        "        ToTensorV2()\n",
        "    ],\n",
        "    # Augmentation for bounding boxes\n",
        "    bbox_params=A.BboxParams(\n",
        "                    format=\"yolo\",\n",
        "                    min_visibility=0.4,\n",
        "                    label_fields=[]\n",
        "                )\n",
        ")\n",
        "\n",
        "# Transform for testing\n",
        "test_transform = A.Compose(\n",
        "    [\n",
        "        # Rescale an image so that maximum side is equal to image_size\n",
        "        A.LongestMaxSize(max_size=image_size),\n",
        "        # Pad remaining areas with zeros\n",
        "        A.PadIfNeeded(\n",
        "            min_height=image_size, min_width=image_size, border_mode=cv2.BORDER_CONSTANT\n",
        "        ),\n",
        "        # Normalize the image\n",
        "        A.Normalize(\n",
        "            mean=[0, 0, 0], std=[1, 1, 1], max_pixel_value=255\n",
        "        ),\n",
        "        # Convert the image to PyTorch tensor\n",
        "        ToTensorV2()\n",
        "    ],\n",
        "    # Augmentation for bounding boxes\n",
        "    bbox_params=A.BboxParams(\n",
        "                    format=\"yolo\",\n",
        "                    min_visibility=0.4,\n",
        "                    label_fields=[]\n",
        "                )\n",
        ")"
      ],
      "metadata": {
        "id": "GJESngQwuKe8"
      },
      "execution_count": 11,
      "outputs": []
    },
    {
      "cell_type": "markdown",
      "source": [
        "**LOAD THE DATASET**"
      ],
      "metadata": {
        "id": "4elWdawyuMnk"
      }
    },
    {
      "cell_type": "code",
      "source": [
        "# Creating a dataset object\n",
        "dataset = Dataset(\n",
        "    image_dir=\"/content/drive/MyDrive/dataset/images\",\n",
        "    label_dir=\"/content/drive/MyDrive/dataset/labels\",\n",
        "    grid_sizes=[13, 26, 52],\n",
        "    anchors=ANCHORS,\n",
        "    transform=test_transform\n",
        ")\n",
        "\n",
        "# Creating a dataloader object\n",
        "loader = torch.utils.data.DataLoader(\n",
        "    dataset=dataset,\n",
        "    batch_size=1,\n",
        "    shuffle=True,\n",
        ")\n",
        "\n",
        "# Defining the grid size and the scaled anchors\n",
        "GRID_SIZE = [13, 26, 52]\n",
        "scaled_anchors = torch.tensor(ANCHORS) / (\n",
        "    1 / torch.tensor(GRID_SIZE).unsqueeze(1).unsqueeze(1).repeat(1, 3, 2)\n",
        ")\n",
        "\n",
        "# Getting a batch from the dataloader\n",
        "x, y = next(iter(loader))\n",
        "\n",
        "# Getting the boxes coordinates from the labels\n",
        "# and converting them into bounding boxes without scaling\n",
        "boxes = []\n",
        "for i in range(y[0].shape[1]):\n",
        "    anchor = scaled_anchors[i]\n",
        "    boxes += convert_cells_to_bboxes(\n",
        "               y[i], is_predictions=False, s=y[i].shape[2], anchors=anchor\n",
        "             )[0]\n",
        "\n",
        "# Applying non-maximum suppression\n",
        "boxes = nms(boxes, iou_threshold=1, threshold=0.7)\n",
        "\n",
        "# Plotting the image with the bounding boxes\n",
        "plot_image(x[0].permute(1,2,0).to(\"cpu\"), boxes)"
      ],
      "metadata": {
        "id": "TtI-p4wKuQ6i",
        "colab": {
          "base_uri": "https://localhost:8080/",
          "height": 435
        },
        "outputId": "e1127e09-7737-4680-c2f4-228cca206f95"
      },
      "execution_count": 12,
      "outputs": [
        {
          "output_type": "display_data",
          "data": {
            "text/plain": [
              "<Figure size 640x480 with 1 Axes>"
            ],
            "image/png": "[encoded data removed]"
          },
          "metadata": {}
        }
      ]
    },
    {
      "cell_type": "markdown",
      "source": [
        "**BUILD THE BLOCK**"
      ],
      "metadata": {
        "id": "_6gZehEYuThZ"
      }
    },
    {
      "cell_type": "markdown",
      "source": [
        "**1. CNN-BLOCK**"
      ],
      "metadata": {
        "id": "Hdh-LTIMuYZQ"
      }
    },
    {
      "cell_type": "code",
      "source": [
        "# Defining CNN Block\n",
        "class CNNBlock(nn.Module):\n",
        "    def __init__(self, in_channels, out_channels, use_batch_norm=True, **kwargs):\n",
        "        super().__init__()\n",
        "        self.conv = nn.Conv2d(in_channels, out_channels, bias=not use_batch_norm, **kwargs)\n",
        "        self.bn = nn.BatchNorm2d(out_channels)\n",
        "        self.activation = nn.LeakyReLU(0.1)\n",
        "        self.use_batch_norm = use_batch_norm\n",
        "\n",
        "    def forward(self, x):\n",
        "        # Applying convolution\n",
        "        x = self.conv(x)\n",
        "        # Applying BatchNorm and activation if needed\n",
        "        if self.use_batch_norm:\n",
        "            x = self.bn(x)\n",
        "            return self.activation(x)\n",
        "        else:\n",
        "            return x"
      ],
      "metadata": {
        "id": "onv8whHDudC-"
      },
      "execution_count": 13,
      "outputs": []
    },
    {
      "cell_type": "markdown",
      "source": [
        "**2. RESIDUAL BLOCK**"
      ],
      "metadata": {
        "id": "snSOUGRDufeh"
      }
    },
    {
      "cell_type": "code",
      "source": [
        "# Defining residual block\n",
        "class ResidualBlock(nn.Module):\n",
        "    def __init__(self, channels, use_residual=True, num_repeats=1):\n",
        "        super().__init__()\n",
        "\n",
        "        # Defining all the layers in a list and adding them based on number of\n",
        "        # repeats mentioned in the design\n",
        "        res_layers = []\n",
        "        for _ in range(num_repeats):\n",
        "            res_layers += [\n",
        "                nn.Sequential(\n",
        "                    nn.Conv2d(channels, channels // 2, kernel_size=1),\n",
        "                    nn.BatchNorm2d(channels // 2),\n",
        "                    nn.LeakyReLU(0.1),\n",
        "                    nn.Conv2d(channels // 2, channels, kernel_size=3, padding=1),\n",
        "                    nn.BatchNorm2d(channels),\n",
        "                    nn.LeakyReLU(0.1)\n",
        "                )\n",
        "            ]\n",
        "        self.layers = nn.ModuleList(res_layers)\n",
        "        self.use_residual = use_residual\n",
        "        self.num_repeats = num_repeats\n",
        "\n",
        "    # Defining forward pass\n",
        "    def forward(self, x):\n",
        "        for layer in self.layers:\n",
        "            residual = x\n",
        "            x = layer(x)\n",
        "            if self.use_residual:\n",
        "                x = x + residual\n",
        "        return x"
      ],
      "metadata": {
        "id": "dqkgQH7kujJR"
      },
      "execution_count": 14,
      "outputs": []
    },
    {
      "cell_type": "markdown",
      "source": [
        "**SCALE-PREDICTION-BLOCK**"
      ],
      "metadata": {
        "id": "IAeh2w1pumFF"
      }
    },
    {
      "cell_type": "code",
      "source": [
        "# Defining scale prediction class\n",
        "class ScalePrediction(nn.Module):\n",
        "    def __init__(self, in_channels, num_classes):\n",
        "        super().__init__()\n",
        "        # Defining the layers in the network\n",
        "        self.pred = nn.Sequential(\n",
        "            nn.Conv2d(in_channels, 2*in_channels, kernel_size=3, padding=1),\n",
        "            nn.BatchNorm2d(2*in_channels),\n",
        "            nn.LeakyReLU(0.1),\n",
        "            nn.Conv2d(2*in_channels, (num_classes + 5) * 3, kernel_size=1),\n",
        "        )\n",
        "        self.num_classes = num_classes\n",
        "\n",
        "    # Defining the forward pass and reshaping the output to the desired output\n",
        "    # format: (batch_size, 3, grid_size, grid_size, num_classes + 5)\n",
        "    def forward(self, x):\n",
        "        output = self.pred(x)\n",
        "        output = output.view(x.size(0), 3, self.num_classes + 5, x.size(2), x.size(3))\n",
        "        output = output.permute(0, 1, 3, 4, 2)\n",
        "        return output"
      ],
      "metadata": {
        "id": "hK8dzVSFurFc"
      },
      "execution_count": 15,
      "outputs": []
    },
    {
      "cell_type": "markdown",
      "source": [
        "**YOLO-V3-MODEL**"
      ],
      "metadata": {
        "id": "GdJoBwdauthH"
      }
    },
    {
      "cell_type": "code",
      "source": [
        "# Class for defining YOLOv3 model\n",
        "class YOLOv3(nn.Module):\n",
        "    def __init__(self, in_channels=3, num_classes=2):\n",
        "        super().__init__()\n",
        "        self.num_classes = num_classes\n",
        "        self.in_channels = in_channels\n",
        "\n",
        "        # Layers list for YOLOv3\n",
        "        self.layers = nn.ModuleList([\n",
        "            CNNBlock(in_channels, 32, kernel_size=3, stride=1, padding=1),\n",
        "            CNNBlock(32, 64, kernel_size=3, stride=2, padding=1),\n",
        "            ResidualBlock(64, num_repeats=1),\n",
        "            CNNBlock(64, 128, kernel_size=3, stride=2, padding=1),\n",
        "            ResidualBlock(128, num_repeats=2),\n",
        "            CNNBlock(128, 256, kernel_size=3, stride=2, padding=1),\n",
        "            ResidualBlock(256, num_repeats=8),\n",
        "            CNNBlock(256, 512, kernel_size=3, stride=2, padding=1),\n",
        "            ResidualBlock(512, num_repeats=8),\n",
        "            CNNBlock(512, 1024, kernel_size=3, stride=2, padding=1),\n",
        "            ResidualBlock(1024, num_repeats=4),\n",
        "            CNNBlock(1024, 512, kernel_size=1, stride=1, padding=0),\n",
        "            CNNBlock(512, 1024, kernel_size=3, stride=1, padding=1),\n",
        "            ResidualBlock(1024, use_residual=False, num_repeats=1),\n",
        "            CNNBlock(1024, 512, kernel_size=1, stride=1, padding=0),\n",
        "            ScalePrediction(512, num_classes=num_classes),\n",
        "            CNNBlock(512, 256, kernel_size=1, stride=1, padding=0),\n",
        "            nn.Upsample(scale_factor=2),\n",
        "            CNNBlock(768, 256, kernel_size=1, stride=1, padding=0),\n",
        "            CNNBlock(256, 512, kernel_size=3, stride=1, padding=1),\n",
        "            ResidualBlock(512, use_residual=False, num_repeats=1),\n",
        "            CNNBlock(512, 256, kernel_size=1, stride=1, padding=0),\n",
        "            ScalePrediction(256, num_classes=num_classes),\n",
        "            CNNBlock(256, 128, kernel_size=1, stride=1, padding=0),\n",
        "            nn.Upsample(scale_factor=2),\n",
        "            CNNBlock(384, 128, kernel_size=1, stride=1, padding=0),\n",
        "            CNNBlock(128, 256, kernel_size=3, stride=1, padding=1),\n",
        "            ResidualBlock(256, use_residual=False, num_repeats=1),\n",
        "            CNNBlock(256, 128, kernel_size=1, stride=1, padding=0),\n",
        "            ScalePrediction(128, num_classes=num_classes)\n",
        "        ])\n",
        "\n",
        "    # Forward pass for YOLOv3 with route connections and scale predictions\n",
        "    def forward(self, x):\n",
        "        outputs = []\n",
        "        route_connections = []\n",
        "\n",
        "        for layer in self.layers:\n",
        "            if isinstance(layer, ScalePrediction):\n",
        "                outputs.append(layer(x))\n",
        "                continue\n",
        "            x = layer(x)\n",
        "\n",
        "            if isinstance(layer, ResidualBlock) and layer.num_repeats == 8:\n",
        "                route_connections.append(x)\n",
        "\n",
        "            elif isinstance(layer, nn.Upsample):\n",
        "                x = torch.cat([x, route_connections[-1]], dim=1)\n",
        "                route_connections.pop()\n",
        "        return outputs"
      ],
      "metadata": {
        "id": "AqHZnxEvu01j"
      },
      "execution_count": 16,
      "outputs": []
    },
    {
      "cell_type": "markdown",
      "source": [
        "**TEST THE YOLOV3-MODEL**"
      ],
      "metadata": {
        "id": "mJTmm1s-u1_f"
      }
    },
    {
      "cell_type": "code",
      "source": [
        "# Testing YOLO v3 model\n",
        "if __name__ == \"__main__\":\n",
        "    # Setting number of classes and image size\n",
        "    num_classes = 2\n",
        "    IMAGE_SIZE = 416\n",
        "\n",
        "    # Creating model and testing output shapes\n",
        "    model = YOLOv3(num_classes=num_classes)\n",
        "    x = torch.randn((1, 3, IMAGE_SIZE, IMAGE_SIZE))\n",
        "    out = model(x)\n",
        "    print(out[0].shape)\n",
        "    print(out[1].shape)\n",
        "    print(out[2].shape)\n",
        "\n",
        "    # Asserting output shapes\n",
        "    assert model(x)[0].shape == (1, 3, IMAGE_SIZE//32, IMAGE_SIZE//32, num_classes + 5)\n",
        "    assert model(x)[1].shape == (1, 3, IMAGE_SIZE//16, IMAGE_SIZE//16, num_classes + 5)\n",
        "    assert model(x)[2].shape == (1, 3, IMAGE_SIZE//8, IMAGE_SIZE//8, num_classes + 5)\n",
        "    print(\"Output shapes are correct!\")"
      ],
      "metadata": {
        "id": "wTd_Om1gu6V6",
        "colab": {
          "base_uri": "https://localhost:8080/"
        },
        "outputId": "21651cac-9820-4fd0-dd58-2b3135bbfcc4"
      },
      "execution_count": 17,
      "outputs": [
        {
          "output_type": "stream",
          "name": "stdout",
          "text": [
            "torch.Size([1, 3, 13, 13, 7])\n",
            "torch.Size([1, 3, 26, 26, 7])\n",
            "torch.Size([1, 3, 52, 52, 7])\n",
            "Output shapes are correct!\n"
          ]
        }
      ]
    },
    {
      "cell_type": "markdown",
      "source": [
        "**MODEL TRAINING**"
      ],
      "metadata": {
        "id": "sV2s5vNVu8de"
      }
    },
    {
      "cell_type": "code",
      "source": [
        "#Define the losses, optimizer, and activation function, and forwarding step for the YOLOv3 model\n",
        "\n",
        "# Defining YOLO loss class\n",
        "class YOLOLoss(nn.Module):\n",
        "    def __init__(self):\n",
        "        super().__init__()\n",
        "        self.mse = nn.MSELoss()\n",
        "        self.bce = nn.BCEWithLogitsLoss()\n",
        "        self.cross_entropy = nn.CrossEntropyLoss()\n",
        "        self.sigmoid = nn.Sigmoid()\n",
        "\n",
        "    def forward(self, pred, target, anchors):\n",
        "        # Identifying which cells in target have objects\n",
        "        # and which have no objects\n",
        "        obj = target[..., 0] == 1\n",
        "        no_obj = target[..., 0] == 0\n",
        "\n",
        "        # Calculating No object loss\n",
        "        no_object_loss = self.bce(\n",
        "            (pred[..., 0:1][no_obj]), (target[..., 0:1][no_obj]),\n",
        "        )\n",
        "\n",
        "\n",
        "        # Reshaping anchors to match predictions\n",
        "        anchors = anchors.reshape(1, 3, 1, 1, 2)\n",
        "        # Box prediction confidence\n",
        "        box_preds = torch.cat([self.sigmoid(pred[..., 1:3]),\n",
        "                               torch.exp(pred[..., 3:5]) * anchors\n",
        "                            ],dim=-1)\n",
        "        # Calculating intersection over union for prediction and target\n",
        "        ious = iou(box_preds[obj], target[..., 1:5][obj]).detach()\n",
        "        # Calculating Object loss\n",
        "        object_loss = self.mse(self.sigmoid(pred[..., 0:1][obj]),\n",
        "                               ious * target[..., 0:1][obj])\n",
        "\n",
        "\n",
        "        # Predicted box coordinates\n",
        "        pred[..., 1:3] = self.sigmoid(pred[..., 1:3])\n",
        "        # Target box coordinates\n",
        "        target[..., 3:5] = torch.log(1e-6 + target[..., 3:5] / anchors)\n",
        "        # Calculating box coordinate loss\n",
        "        box_loss = self.mse(pred[..., 1:5][obj],\n",
        "                            target[..., 1:5][obj])\n",
        "\n",
        "\n",
        "        # Claculating class loss\n",
        "        class_loss = self.cross_entropy((pred[..., 5:][obj]),\n",
        "                                   target[..., 5][obj].long())\n",
        "\n",
        "        # Total loss\n",
        "        return (\n",
        "            box_loss\n",
        "            + object_loss\n",
        "            + no_object_loss\n",
        "            + class_loss\n",
        "        )"
      ],
      "metadata": {
        "id": "8Gn_LKjfvAJ2"
      },
      "execution_count": 18,
      "outputs": []
    },
    {
      "cell_type": "markdown",
      "source": [
        "**TRAINING LOOP**"
      ],
      "metadata": {
        "id": "M4h3pN00vCkg"
      }
    },
    {
      "cell_type": "code",
      "source": [
        "# Define the train function to train the model\n",
        "def training_loop(loader, model, optimizer, loss_fn, scaler, scaled_anchors):\n",
        "    # Creating a progress bar\n",
        "    progress_bar = tqdm(loader, leave=True)\n",
        "\n",
        "    # Initializing a list to store the losses\n",
        "    losses = []\n",
        "\n",
        "    # Iterating over the training data\n",
        "    for _, (x, y) in enumerate(progress_bar):\n",
        "        x = x.to(device)\n",
        "        y0, y1, y2 = (\n",
        "            y[0].to(device),\n",
        "            y[1].to(device),\n",
        "            y[2].to(device),\n",
        "        )\n",
        "\n",
        "        with torch.cuda.amp.autocast():\n",
        "            # Getting the model predictions\n",
        "            outputs = model(x)\n",
        "            # Calculating the loss at each scale\n",
        "            loss = (\n",
        "                  loss_fn(outputs[0], y0, scaled_anchors[0])\n",
        "                + loss_fn(outputs[1], y1, scaled_anchors[1])\n",
        "                + loss_fn(outputs[2], y2, scaled_anchors[2])\n",
        "            )\n",
        "\n",
        "        # Add the loss to the list\n",
        "        losses.append(loss.item())\n",
        "\n",
        "        # Reset gradients\n",
        "        optimizer.zero_grad()\n",
        "\n",
        "        # Backpropagate the loss\n",
        "        scaler.scale(loss).backward()\n",
        "\n",
        "        # Optimization step\n",
        "        scaler.step(optimizer)\n",
        "\n",
        "        # Update the scaler for next iteration\n",
        "        scaler.update()\n",
        "\n",
        "        # update progress bar with loss\n",
        "        mean_loss = sum(losses) / len(losses)\n",
        "        progress_bar.set_postfix(loss=mean_loss)"
      ],
      "metadata": {
        "id": "fVoLNmmcvCIw"
      },
      "execution_count": 19,
      "outputs": []
    },
    {
      "cell_type": "markdown",
      "source": [
        "**TRAIN THE MODEL**"
      ],
      "metadata": {
        "id": "nF9ZYOH-vIFT"
      }
    },
    {
      "cell_type": "code",
      "source": [
        "# Creating the model from YOLOv3 class\n",
        "model = YOLOv3().to(device)\n",
        "\n",
        "# Defining the optimizer\n",
        "optimizer = optim.Adam(model.parameters(), lr = learning_rate)\n",
        "\n",
        "# Defining the loss function\n",
        "loss_fn = YOLOLoss()\n",
        "\n",
        "# Defining the scaler for mixed precision training\n",
        "scaler = torch.cuda.amp.GradScaler()\n",
        "\n",
        "# Defining the train dataset\n",
        "train_dataset = Dataset(\n",
        "    image_dir=\"/content/drive/MyDrive/dataset/images\",\n",
        "    label_dir=\"/content/drive/MyDrive/dataset/labels\",\n",
        "    anchors=ANCHORS,\n",
        "    transform=train_transform\n",
        ")\n",
        "\n",
        "# Defining the train data loader\n",
        "train_loader = torch.utils.data.DataLoader(\n",
        "    train_dataset,\n",
        "    batch_size = batch_size,\n",
        "    num_workers = 2,\n",
        "    shuffle = True,\n",
        "    pin_memory = True,\n",
        ")\n",
        "\n",
        "# Scaling the anchors\n",
        "scaled_anchors = (\n",
        "    torch.tensor(ANCHORS) *\n",
        "    torch.tensor(s).unsqueeze(1).unsqueeze(1).repeat(1,3,2)\n",
        ").to(device)\n",
        "\n",
        "# Training the model\n",
        "for e in range(1, epochs+1):\n",
        "    print(\"Epoch:\", e)\n",
        "    training_loop(train_loader, model, optimizer, loss_fn, scaler, scaled_anchors)\n",
        "\n",
        "    # Saving the model\n",
        "    if save_model:\n",
        "        save_checkpoint(model, optimizer, filename=f\"checkpoint.pth.tar\")"
      ],
      "metadata": {
        "id": "2XAJVjxzvLTT",
        "colab": {
          "base_uri": "https://localhost:8080/",
          "height": 528
        },
        "outputId": "75175851-1366-41d4-a8b4-85e4b895d405"
      },
      "execution_count": 27,
      "outputs": [
        {
          "output_type": "stream",
          "name": "stderr",
          "text": [
            "<ipython-input-27-0bd5b93bf341>:11: FutureWarning: `torch.cuda.amp.GradScaler(args...)` is deprecated. Please use `torch.amp.GradScaler('cuda', args...)` instead.\n",
            "  scaler = torch.cuda.amp.GradScaler()\n"
          ]
        },
        {
          "output_type": "stream",
          "name": "stdout",
          "text": [
            "Epoch: 1\n"
          ]
        },
        {
          "output_type": "stream",
          "name": "stderr",
          "text": [
            "\r  0%|          | 0/745 [00:00<?, ?it/s]<ipython-input-19-76e1f9180371>:18: FutureWarning: `torch.cuda.amp.autocast(args...)` is deprecated. Please use `torch.amp.autocast('cuda', args...)` instead.\n",
            "  with torch.cuda.amp.autocast():\n",
            "/usr/local/lib/python3.11/dist-packages/torch/amp/autocast_mode.py:266: UserWarning: User provided device_type of 'cuda', but CUDA is not available. Disabling\n",
            "  warnings.warn(\n",
            "  0%|          | 1/745 [00:14<3:02:12, 14.69s/it, loss=4.51]\n"
          ]
        },
        {
          "output_type": "error",
          "ename": "KeyboardInterrupt",
          "evalue": "",
          "traceback": [
            "\u001b[0;31m---------------------------------------------------------------------------\u001b[0m",
            "\u001b[0;31mKeyboardInterrupt\u001b[0m                         Traceback (most recent call last)",
            "\u001b[0;32m<ipython-input-27-0bd5b93bf341>\u001b[0m in \u001b[0;36m<cell line: 0>\u001b[0;34m()\u001b[0m\n\u001b[1;32m     37\u001b[0m \u001b[0;32mfor\u001b[0m \u001b[0me\u001b[0m \u001b[0;32min\u001b[0m \u001b[0mrange\u001b[0m\u001b[0;34m(\u001b[0m\u001b[0;36m1\u001b[0m\u001b[0;34m,\u001b[0m \u001b[0mepochs\u001b[0m\u001b[0;34m+\u001b[0m\u001b[0;36m1\u001b[0m\u001b[0;34m)\u001b[0m\u001b[0;34m:\u001b[0m\u001b[0;34m\u001b[0m\u001b[0;34m\u001b[0m\u001b[0m\n\u001b[1;32m     38\u001b[0m     \u001b[0mprint\u001b[0m\u001b[0;34m(\u001b[0m\u001b[0;34m\"Epoch:\"\u001b[0m\u001b[0;34m,\u001b[0m \u001b[0me\u001b[0m\u001b[0;34m)\u001b[0m\u001b[0;34m\u001b[0m\u001b[0;34m\u001b[0m\u001b[0m\n\u001b[0;32m---> 39\u001b[0;31m     \u001b[0mtraining_loop\u001b[0m\u001b[0;34m(\u001b[0m\u001b[0mtrain_loader\u001b[0m\u001b[0;34m,\u001b[0m \u001b[0mmodel\u001b[0m\u001b[0;34m,\u001b[0m \u001b[0moptimizer\u001b[0m\u001b[0;34m,\u001b[0m \u001b[0mloss_fn\u001b[0m\u001b[0;34m,\u001b[0m \u001b[0mscaler\u001b[0m\u001b[0;34m,\u001b[0m \u001b[0mscaled_anchors\u001b[0m\u001b[0;34m)\u001b[0m\u001b[0;34m\u001b[0m\u001b[0;34m\u001b[0m\u001b[0m\n\u001b[0m\u001b[1;32m     40\u001b[0m \u001b[0;34m\u001b[0m\u001b[0m\n\u001b[1;32m     41\u001b[0m     \u001b[0;31m# Saving the model\u001b[0m\u001b[0;34m\u001b[0m\u001b[0;34m\u001b[0m\u001b[0m\n",
            "\u001b[0;32m<ipython-input-19-76e1f9180371>\u001b[0m in \u001b[0;36mtraining_loop\u001b[0;34m(loader, model, optimizer, loss_fn, scaler, scaled_anchors)\u001b[0m\n\u001b[1;32m     33\u001b[0m \u001b[0;34m\u001b[0m\u001b[0m\n\u001b[1;32m     34\u001b[0m         \u001b[0;31m# Backpropagate the loss\u001b[0m\u001b[0;34m\u001b[0m\u001b[0;34m\u001b[0m\u001b[0m\n\u001b[0;32m---> 35\u001b[0;31m         \u001b[0mscaler\u001b[0m\u001b[0;34m.\u001b[0m\u001b[0mscale\u001b[0m\u001b[0;34m(\u001b[0m\u001b[0mloss\u001b[0m\u001b[0;34m)\u001b[0m\u001b[0;34m.\u001b[0m\u001b[0mbackward\u001b[0m\u001b[0;34m(\u001b[0m\u001b[0;34m)\u001b[0m\u001b[0;34m\u001b[0m\u001b[0;34m\u001b[0m\u001b[0m\n\u001b[0m\u001b[1;32m     36\u001b[0m \u001b[0;34m\u001b[0m\u001b[0m\n\u001b[1;32m     37\u001b[0m         \u001b[0;31m# Optimization step\u001b[0m\u001b[0;34m\u001b[0m\u001b[0;34m\u001b[0m\u001b[0m\n",
            "\u001b[0;32m/usr/local/lib/python3.11/dist-packages/torch/_tensor.py\u001b[0m in \u001b[0;36mbackward\u001b[0;34m(self, gradient, retain_graph, create_graph, inputs)\u001b[0m\n\u001b[1;32m    624\u001b[0m                 \u001b[0minputs\u001b[0m\u001b[0;34m=\u001b[0m\u001b[0minputs\u001b[0m\u001b[0;34m,\u001b[0m\u001b[0;34m\u001b[0m\u001b[0;34m\u001b[0m\u001b[0m\n\u001b[1;32m    625\u001b[0m             )\n\u001b[0;32m--> 626\u001b[0;31m         torch.autograd.backward(\n\u001b[0m\u001b[1;32m    627\u001b[0m             \u001b[0mself\u001b[0m\u001b[0;34m,\u001b[0m \u001b[0mgradient\u001b[0m\u001b[0;34m,\u001b[0m \u001b[0mretain_graph\u001b[0m\u001b[0;34m,\u001b[0m \u001b[0mcreate_graph\u001b[0m\u001b[0;34m,\u001b[0m \u001b[0minputs\u001b[0m\u001b[0;34m=\u001b[0m\u001b[0minputs\u001b[0m\u001b[0;34m\u001b[0m\u001b[0;34m\u001b[0m\u001b[0m\n\u001b[1;32m    628\u001b[0m         )\n",
            "\u001b[0;32m/usr/local/lib/python3.11/dist-packages/torch/autograd/__init__.py\u001b[0m in \u001b[0;36mbackward\u001b[0;34m(tensors, grad_tensors, retain_graph, create_graph, grad_variables, inputs)\u001b[0m\n\u001b[1;32m    345\u001b[0m     \u001b[0;31m# some Python versions print out the first line of a multi-line function\u001b[0m\u001b[0;34m\u001b[0m\u001b[0;34m\u001b[0m\u001b[0m\n\u001b[1;32m    346\u001b[0m     \u001b[0;31m# calls in the traceback and some print out the last line\u001b[0m\u001b[0;34m\u001b[0m\u001b[0;34m\u001b[0m\u001b[0m\n\u001b[0;32m--> 347\u001b[0;31m     _engine_run_backward(\n\u001b[0m\u001b[1;32m    348\u001b[0m         \u001b[0mtensors\u001b[0m\u001b[0;34m,\u001b[0m\u001b[0;34m\u001b[0m\u001b[0;34m\u001b[0m\u001b[0m\n\u001b[1;32m    349\u001b[0m         \u001b[0mgrad_tensors_\u001b[0m\u001b[0;34m,\u001b[0m\u001b[0;34m\u001b[0m\u001b[0;34m\u001b[0m\u001b[0m\n",
            "\u001b[0;32m/usr/local/lib/python3.11/dist-packages/torch/autograd/graph.py\u001b[0m in \u001b[0;36m_engine_run_backward\u001b[0;34m(t_outputs, *args, **kwargs)\u001b[0m\n\u001b[1;32m    821\u001b[0m         \u001b[0munregister_hooks\u001b[0m \u001b[0;34m=\u001b[0m \u001b[0m_register_logging_hooks_on_whole_graph\u001b[0m\u001b[0;34m(\u001b[0m\u001b[0mt_outputs\u001b[0m\u001b[0;34m)\u001b[0m\u001b[0;34m\u001b[0m\u001b[0;34m\u001b[0m\u001b[0m\n\u001b[1;32m    822\u001b[0m     \u001b[0;32mtry\u001b[0m\u001b[0;34m:\u001b[0m\u001b[0;34m\u001b[0m\u001b[0;34m\u001b[0m\u001b[0m\n\u001b[0;32m--> 823\u001b[0;31m         return Variable._execution_engine.run_backward(  # Calls into the C++ engine to run the backward pass\n\u001b[0m\u001b[1;32m    824\u001b[0m             \u001b[0mt_outputs\u001b[0m\u001b[0;34m,\u001b[0m \u001b[0;34m*\u001b[0m\u001b[0margs\u001b[0m\u001b[0;34m,\u001b[0m \u001b[0;34m**\u001b[0m\u001b[0mkwargs\u001b[0m\u001b[0;34m\u001b[0m\u001b[0;34m\u001b[0m\u001b[0m\n\u001b[1;32m    825\u001b[0m         )  # Calls into the C++ engine to run the backward pass\n",
            "\u001b[0;31mKeyboardInterrupt\u001b[0m: "
          ]
        }
      ]
    },
    {
      "cell_type": "markdown",
      "source": [
        "**TESTING THE MODEL**"
      ],
      "metadata": {
        "id": "n5TsGh_jvNgc"
      }
    },
    {
      "cell_type": "code",
      "source": [
        "# Taking a sample image and testing the model\n",
        "\n",
        "# Setting the load_model to True\n",
        "load_model = True\n",
        "\n",
        "# Defining the model, optimizer, loss function and scaler\n",
        "model = YOLOv3().to(device)\n",
        "optimizer = optim.Adam(model.parameters(), lr = learning_rate)\n",
        "loss_fn = YOLOLoss()\n",
        "scaler = torch.cuda.amp.GradScaler()\n",
        "\n",
        "# Loading the checkpoint\n",
        "if load_model:\n",
        "    load_checkpoint(checkpoint_file, model, optimizer, learning_rate)\n",
        "\n",
        "# Defining the test dataset and data loader\n",
        "test_dataset = Dataset(\n",
        "    image_dir=\"/content/drive/MyDrive/domo/dataset/images\",\n",
        "    label_dir=\"/content/drive/MyDrive/domo/dataset/labels\",\n",
        "    anchors=ANCHORS,\n",
        "    transform=test_transform\n",
        ")\n",
        "test_loader = torch.utils.data.DataLoader(\n",
        "    test_dataset,\n",
        "    batch_size = 1,\n",
        "    num_workers = 2,\n",
        "    shuffle = True,\n",
        ")\n",
        "\n",
        "# Getting a sample image from the test data loader\n",
        "x, y = next(iter(test_loader))\n",
        "x = x.to(device)\n",
        "\n",
        "model.eval()\n",
        "with torch.no_grad():\n",
        "    # Getting the model predictions\n",
        "    output = model(x)\n",
        "    # Getting the bounding boxes from the predictions\n",
        "    bboxes = [[] for _ in range(x.shape[0])]\n",
        "    anchors = (\n",
        "            torch.tensor(ANCHORS)\n",
        "                * torch.tensor(s).unsqueeze(1).unsqueeze(1).repeat(1, 3, 2)\n",
        "            ).to(device)\n",
        "\n",
        "    # Getting bounding boxes for each scale\n",
        "    for i in range(3):\n",
        "        batch_size, A, S, _, _ = output[i].shape\n",
        "        anchor = anchors[i]\n",
        "        boxes_scale_i = convert_cells_to_bboxes(\n",
        "                            output[i], anchor, s=S, is_predictions=True\n",
        "                        )\n",
        "        for idx, (box) in enumerate(boxes_scale_i):\n",
        "            bboxes[idx] += box\n",
        "model.train()\n",
        "\n",
        "# Plotting the image with bounding boxes for each image in the batch\n",
        "for i in range(batch_size):\n",
        "    # Applying non-max suppression to remove overlapping bounding boxes\n",
        "    nms_boxes = nms(bboxes[i], iou_threshold=0.5, threshold=0.6)\n",
        "    # Plotting the image with bounding boxes\n",
        "    plot_image(x[i].permute(1,2,0).detach().cpu(), nms_boxes)"
      ],
      "metadata": {
        "id": "TuDRLllcvSBs",
        "colab": {
          "base_uri": "https://localhost:8080/",
          "height": 418
        },
        "outputId": "8b2e8a12-7efd-4ab7-f0b5-9e7dfe5894e2"
      },
      "execution_count": 44,
      "outputs": [
        {
          "output_type": "stream",
          "name": "stdout",
          "text": [
            "==> Loading checkpoint\n"
          ]
        },
        {
          "output_type": "stream",
          "name": "stderr",
          "text": [
            "<ipython-input-44-59f8a939fd2c>:10: FutureWarning: `torch.cuda.amp.GradScaler(args...)` is deprecated. Please use `torch.amp.GradScaler('cuda', args...)` instead.\n",
            "  scaler = torch.cuda.amp.GradScaler()\n"
          ]
        },
        {
          "output_type": "error",
          "ename": "RuntimeError",
          "evalue": "PytorchStreamReader failed reading zip archive: not a ZIP archive",
          "traceback": [
            "\u001b[0;31m---------------------------------------------------------------------------\u001b[0m",
            "\u001b[0;31mRuntimeError\u001b[0m                              Traceback (most recent call last)",
            "\u001b[0;32m<ipython-input-44-59f8a939fd2c>\u001b[0m in \u001b[0;36m<cell line: 0>\u001b[0;34m()\u001b[0m\n\u001b[1;32m     12\u001b[0m \u001b[0;31m# Loading the checkpoint\u001b[0m\u001b[0;34m\u001b[0m\u001b[0;34m\u001b[0m\u001b[0m\n\u001b[1;32m     13\u001b[0m \u001b[0;32mif\u001b[0m \u001b[0mload_model\u001b[0m\u001b[0;34m:\u001b[0m\u001b[0;34m\u001b[0m\u001b[0;34m\u001b[0m\u001b[0m\n\u001b[0;32m---> 14\u001b[0;31m     \u001b[0mload_checkpoint\u001b[0m\u001b[0;34m(\u001b[0m\u001b[0mcheckpoint_file\u001b[0m\u001b[0;34m,\u001b[0m \u001b[0mmodel\u001b[0m\u001b[0;34m,\u001b[0m \u001b[0moptimizer\u001b[0m\u001b[0;34m,\u001b[0m \u001b[0mlearning_rate\u001b[0m\u001b[0;34m)\u001b[0m\u001b[0;34m\u001b[0m\u001b[0;34m\u001b[0m\u001b[0m\n\u001b[0m\u001b[1;32m     15\u001b[0m \u001b[0;34m\u001b[0m\u001b[0m\n\u001b[1;32m     16\u001b[0m \u001b[0;31m# Defining the test dataset and data loader\u001b[0m\u001b[0;34m\u001b[0m\u001b[0;34m\u001b[0m\u001b[0m\n",
            "\u001b[0;32m<ipython-input-9-5762c98f264c>\u001b[0m in \u001b[0;36mload_checkpoint\u001b[0;34m(checkpoint_file, model, optimizer, lr)\u001b[0m\n\u001b[1;32m      2\u001b[0m \u001b[0;32mdef\u001b[0m \u001b[0mload_checkpoint\u001b[0m\u001b[0;34m(\u001b[0m\u001b[0mcheckpoint_file\u001b[0m\u001b[0;34m,\u001b[0m \u001b[0mmodel\u001b[0m\u001b[0;34m,\u001b[0m \u001b[0moptimizer\u001b[0m\u001b[0;34m,\u001b[0m \u001b[0mlr\u001b[0m\u001b[0;34m)\u001b[0m\u001b[0;34m:\u001b[0m\u001b[0;34m\u001b[0m\u001b[0;34m\u001b[0m\u001b[0m\n\u001b[1;32m      3\u001b[0m     \u001b[0mprint\u001b[0m\u001b[0;34m(\u001b[0m\u001b[0;34m\"==> Loading checkpoint\"\u001b[0m\u001b[0;34m)\u001b[0m\u001b[0;34m\u001b[0m\u001b[0;34m\u001b[0m\u001b[0m\n\u001b[0;32m----> 4\u001b[0;31m     \u001b[0mcheckpoint\u001b[0m \u001b[0;34m=\u001b[0m \u001b[0mtorch\u001b[0m\u001b[0;34m.\u001b[0m\u001b[0mload\u001b[0m\u001b[0;34m(\u001b[0m\u001b[0mcheckpoint_file\u001b[0m\u001b[0;34m,\u001b[0m \u001b[0mmap_location\u001b[0m\u001b[0;34m=\u001b[0m\u001b[0mdevice\u001b[0m\u001b[0;34m)\u001b[0m\u001b[0;34m\u001b[0m\u001b[0;34m\u001b[0m\u001b[0m\n\u001b[0m\u001b[1;32m      5\u001b[0m     \u001b[0mmodel\u001b[0m\u001b[0;34m.\u001b[0m\u001b[0mload_state_dict\u001b[0m\u001b[0;34m(\u001b[0m\u001b[0mcheckpoint\u001b[0m\u001b[0;34m[\u001b[0m\u001b[0;34m\"state_dict\"\u001b[0m\u001b[0;34m]\u001b[0m\u001b[0;34m)\u001b[0m\u001b[0;34m\u001b[0m\u001b[0;34m\u001b[0m\u001b[0m\n\u001b[1;32m      6\u001b[0m     \u001b[0moptimizer\u001b[0m\u001b[0;34m.\u001b[0m\u001b[0mload_state_dict\u001b[0m\u001b[0;34m(\u001b[0m\u001b[0mcheckpoint\u001b[0m\u001b[0;34m[\u001b[0m\u001b[0;34m\"optimizer\"\u001b[0m\u001b[0;34m]\u001b[0m\u001b[0;34m)\u001b[0m\u001b[0;34m\u001b[0m\u001b[0;34m\u001b[0m\u001b[0m\n",
            "\u001b[0;32m/usr/local/lib/python3.11/dist-packages/torch/serialization.py\u001b[0m in \u001b[0;36mload\u001b[0;34m(f, map_location, pickle_module, weights_only, mmap, **pickle_load_args)\u001b[0m\n\u001b[1;32m   1430\u001b[0m             \u001b[0morig_position\u001b[0m \u001b[0;34m=\u001b[0m \u001b[0mopened_file\u001b[0m\u001b[0;34m.\u001b[0m\u001b[0mtell\u001b[0m\u001b[0;34m(\u001b[0m\u001b[0;34m)\u001b[0m\u001b[0;34m\u001b[0m\u001b[0;34m\u001b[0m\u001b[0m\n\u001b[1;32m   1431\u001b[0m             \u001b[0moverall_storage\u001b[0m \u001b[0;34m=\u001b[0m \u001b[0;32mNone\u001b[0m\u001b[0;34m\u001b[0m\u001b[0;34m\u001b[0m\u001b[0m\n\u001b[0;32m-> 1432\u001b[0;31m             \u001b[0;32mwith\u001b[0m \u001b[0m_open_zipfile_reader\u001b[0m\u001b[0;34m(\u001b[0m\u001b[0mopened_file\u001b[0m\u001b[0;34m)\u001b[0m \u001b[0;32mas\u001b[0m \u001b[0mopened_zipfile\u001b[0m\u001b[0;34m:\u001b[0m\u001b[0;34m\u001b[0m\u001b[0;34m\u001b[0m\u001b[0m\n\u001b[0m\u001b[1;32m   1433\u001b[0m                 \u001b[0;32mif\u001b[0m \u001b[0m_is_torchscript_zip\u001b[0m\u001b[0;34m(\u001b[0m\u001b[0mopened_zipfile\u001b[0m\u001b[0;34m)\u001b[0m\u001b[0;34m:\u001b[0m\u001b[0;34m\u001b[0m\u001b[0;34m\u001b[0m\u001b[0m\n\u001b[1;32m   1434\u001b[0m                     warnings.warn(\n",
            "\u001b[0;32m/usr/local/lib/python3.11/dist-packages/torch/serialization.py\u001b[0m in \u001b[0;36m__init__\u001b[0;34m(self, name_or_buffer)\u001b[0m\n\u001b[1;32m    761\u001b[0m \u001b[0;32mclass\u001b[0m \u001b[0m_open_zipfile_reader\u001b[0m\u001b[0;34m(\u001b[0m\u001b[0m_opener\u001b[0m\u001b[0;34m)\u001b[0m\u001b[0;34m:\u001b[0m\u001b[0;34m\u001b[0m\u001b[0;34m\u001b[0m\u001b[0m\n\u001b[1;32m    762\u001b[0m     \u001b[0;32mdef\u001b[0m \u001b[0m__init__\u001b[0m\u001b[0;34m(\u001b[0m\u001b[0mself\u001b[0m\u001b[0;34m,\u001b[0m \u001b[0mname_or_buffer\u001b[0m\u001b[0;34m)\u001b[0m \u001b[0;34m->\u001b[0m \u001b[0;32mNone\u001b[0m\u001b[0;34m:\u001b[0m\u001b[0;34m\u001b[0m\u001b[0;34m\u001b[0m\u001b[0m\n\u001b[0;32m--> 763\u001b[0;31m         \u001b[0msuper\u001b[0m\u001b[0;34m(\u001b[0m\u001b[0;34m)\u001b[0m\u001b[0;34m.\u001b[0m\u001b[0m__init__\u001b[0m\u001b[0;34m(\u001b[0m\u001b[0mtorch\u001b[0m\u001b[0;34m.\u001b[0m\u001b[0m_C\u001b[0m\u001b[0;34m.\u001b[0m\u001b[0mPyTorchFileReader\u001b[0m\u001b[0;34m(\u001b[0m\u001b[0mname_or_buffer\u001b[0m\u001b[0;34m)\u001b[0m\u001b[0;34m)\u001b[0m\u001b[0;34m\u001b[0m\u001b[0;34m\u001b[0m\u001b[0m\n\u001b[0m\u001b[1;32m    764\u001b[0m \u001b[0;34m\u001b[0m\u001b[0m\n\u001b[1;32m    765\u001b[0m \u001b[0;34m\u001b[0m\u001b[0m\n",
            "\u001b[0;31mRuntimeError\u001b[0m: PytorchStreamReader failed reading zip archive: not a ZIP archive"
          ]
        }
      ]
    },
    {
      "cell_type": "code",
      "source": [
        "import torch\n",
        "import numpy as np\n",
        "from collections import Counter\n",
        "import matplotlib.pyplot as plt\n",
        "from sklearn.metrics import precision_recall_curve, average_precision_score\n",
        "import pandas as pd\n",
        "\n",
        "class YOLOMetrics:\n",
        "    def __init__(self, num_classes=2, iou_threshold=0.5, conf_threshold=0.6):\n",
        "\n",
        "        self.num_classes = num_classes\n",
        "        self.iou_threshold = iou_threshold\n",
        "        self.conf_threshold = conf_threshold\n",
        "        self.class_names = [\"signature\",\"seal\"\n",
        "        ]\n",
        "\n",
        "    def intersection_over_union(self, boxes_preds, boxes_labels):\n",
        "\n",
        "        return iou(boxes_preds, boxes_labels, is_pred=True)\n",
        "\n",
        "    def get_evaluation_bboxes(self, loader, model, device, anchors):\n",
        "\n",
        "\n",
        "        model.eval()\n",
        "        train_idx = 0\n",
        "        all_pred_boxes = []\n",
        "        all_true_boxes = []\n",
        "\n",
        "        for batch_idx, (x, labels) in enumerate(loader):\n",
        "            x = x.to(device)\n",
        "\n",
        "            with torch.no_grad():\n",
        "                outputs = model(x)\n",
        "\n",
        "            batch_size = x.shape[0]\n",
        "            true_bboxes = [[] for _ in range(batch_size)]\n",
        "            bboxes = [[] for _ in range(batch_size)]\n",
        "\n",
        "            # Get ground truth boxes\n",
        "            for i in range(3):  # 3 scales\n",
        "                batch_size, A, S, _, _ = labels[i].shape\n",
        "                anchor = anchors[i]\n",
        "                boxes_scale_i = convert_cells_to_bboxes(\n",
        "                    labels[i], anchor, S=S, is_predictions=False\n",
        "                )\n",
        "                for idx, (box) in enumerate(boxes_scale_i):\n",
        "                    true_bboxes[idx] += box\n",
        "\n",
        "            # Get predicted boxes\n",
        "            for i in range(3):  # 3 scales\n",
        "                batch_size, A, S, _, _ = outputs[i].shape\n",
        "                anchor = anchors[i]\n",
        "                boxes_scale_i = convert_cells_to_bboxes(\n",
        "                    outputs[i], anchor, S=S, is_predictions=True\n",
        "                )\n",
        "                for idx, (box) in enumerate(boxes_scale_i):\n",
        "                    bboxes[idx] += box\n",
        "\n",
        "            for idx in range(batch_size):\n",
        "                # Apply NMS to predictions\n",
        "                nms_boxes = nms(\n",
        "                    bboxes[idx],\n",
        "                    iou_threshold=0.5,\n",
        "                    threshold=self.conf_threshold\n",
        "                )\n",
        "\n",
        "                # Format predictions: [train_idx, class_pred, prob_score, x, y, w, h]\n",
        "                for box in nms_boxes:\n",
        "                    all_pred_boxes.append([train_idx] + box)\n",
        "\n",
        "                # Format ground truth: [train_idx, class_label, prob_score, x, y, w, h]\n",
        "                for box in true_bboxes[idx]:\n",
        "                    if box[1] > self.conf_threshold:  # Only include boxes above threshold\n",
        "                        all_true_boxes.append([train_idx] + box)\n",
        "\n",
        "                train_idx += 1\n",
        "\n",
        "        model.train()\n",
        "        return all_pred_boxes, all_true_boxes\n",
        "\n",
        "    def mean_average_precision(self, pred_boxes, true_boxes):\n",
        "\n",
        "        # List to store AP for each class\n",
        "        average_precisions = []\n",
        "        epsilon = 1e-6\n",
        "\n",
        "        for c in range(self.num_classes):\n",
        "            detections = []\n",
        "            ground_truths = []\n",
        "\n",
        "            # Get all detections and ground truths for class c\n",
        "            for detection in pred_boxes:\n",
        "                if detection[1] == c:\n",
        "                    detections.append(detection)\n",
        "\n",
        "            for true_box in true_boxes:\n",
        "                if true_box[1] == c:\n",
        "                    ground_truths.append(true_box)\n",
        "\n",
        "            # Count ground truth boxes for each image\n",
        "            amount_bboxes = Counter([gt[0] for gt in ground_truths])\n",
        "\n",
        "            # Convert to: img_idx -> {bbox_idx: False}\n",
        "            for key, val in amount_bboxes.items():\n",
        "                amount_bboxes[key] = torch.zeros(val)\n",
        "\n",
        "            # Sort detections by confidence score (descending)\n",
        "            detections.sort(key=lambda x: x[2], reverse=True)\n",
        "            TP = torch.zeros((len(detections)))\n",
        "            FP = torch.zeros((len(detections)))\n",
        "            total_true_bboxes = len(ground_truths)\n",
        "\n",
        "            if total_true_bboxes == 0:\n",
        "                continue\n",
        "\n",
        "            for detection_idx, detection in enumerate(detections):\n",
        "                # Get ground truth boxes for the same image\n",
        "                ground_truth_img = [\n",
        "                    bbox for bbox in ground_truths if bbox[0] == detection[0]\n",
        "                ]\n",
        "\n",
        "                num_gts = len(ground_truth_img)\n",
        "                best_iou = 0\n",
        "\n",
        "                for idx, gt in enumerate(ground_truth_img):\n",
        "                    # Calculate IoU between detection and ground truth using your existing function\n",
        "                    iou_score = iou(\n",
        "                        torch.tensor(detection[3:]),\n",
        "                        torch.tensor(gt[3:]),\n",
        "                        is_pred=True\n",
        "                    )\n",
        "\n",
        "                    if iou_score > best_iou:\n",
        "                        best_iou = iou_score\n",
        "                        best_gt_idx = idx\n",
        "\n",
        "                if best_iou > self.iou_threshold:\n",
        "                    # Check if this ground truth hasn't been matched before\n",
        "                    if amount_bboxes[detection[0]][best_gt_idx] == 0:\n",
        "                        TP[detection_idx] = 1\n",
        "                        amount_bboxes[detection[0]][best_gt_idx] = 1\n",
        "                    else:\n",
        "                        FP[detection_idx] = 1\n",
        "                else:\n",
        "                    FP[detection_idx] = 1\n",
        "\n",
        "            # Calculate cumulative sum for precision and recall\n",
        "            TP_cumsum = torch.cumsum(TP, dim=0)\n",
        "            FP_cumsum = torch.cumsum(FP, dim=0)\n",
        "            recalls = TP_cumsum / (total_true_bboxes + epsilon)\n",
        "            precisions = TP_cumsum / (TP_cumsum + FP_cumsum + epsilon)\n",
        "\n",
        "            # Add padding for numerical stability\n",
        "            precisions = torch.cat((torch.tensor([1]), precisions))\n",
        "            recalls = torch.cat((torch.tensor([0]), recalls))\n",
        "\n",
        "            # Calculate Average Precision using trapezoidal rule\n",
        "            average_precisions.append(torch.trapz(precisions, recalls))\n",
        "\n",
        "        return sum(average_precisions) / len(average_precisions), average_precisions\n",
        "\n",
        "    def calculate_precision_recall(self, pred_boxes, true_boxes):\n",
        "\n",
        "        TP = 0\n",
        "        FP = 0\n",
        "        FN = 0\n",
        "\n",
        "        # Convert to more manageable format\n",
        "        pred_dict = {}\n",
        "        true_dict = {}\n",
        "\n",
        "        for pred in pred_boxes:\n",
        "            img_idx = pred[0]\n",
        "            if img_idx not in pred_dict:\n",
        "                pred_dict[img_idx] = []\n",
        "            pred_dict[img_idx].append(pred[1:])\n",
        "\n",
        "        for true in true_boxes:\n",
        "            img_idx = true[0]\n",
        "            if img_idx not in true_dict:\n",
        "                true_dict[img_idx] = []\n",
        "            true_dict[img_idx].append(true[1:])\n",
        "\n",
        "        # For each image, match predictions with ground truth\n",
        "        all_img_indices = set(list(pred_dict.keys()) + list(true_dict.keys()))\n",
        "\n",
        "        for img_idx in all_img_indices:\n",
        "            preds = pred_dict.get(img_idx, [])\n",
        "            trues = true_dict.get(img_idx, [])\n",
        "\n",
        "            matched_preds = set()\n",
        "            matched_trues = set()\n",
        "\n",
        "            # Find matches based on IoU\n",
        "            for i, pred in enumerate(preds):\n",
        "                best_iou = 0\n",
        "                best_j = -1\n",
        "\n",
        "                for j, true in enumerate(trues):\n",
        "                    if pred[0] == true[0]:  # Same class\n",
        "                        iou_score = iou(\n",
        "                            torch.tensor(pred[2:]),\n",
        "                            torch.tensor(true[2:]),\n",
        "                            is_pred=True\n",
        "                        )\n",
        "                        if iou_score > best_iou and iou_score > self.iou_threshold:\n",
        "                            best_iou = iou_score\n",
        "                            best_j = j\n",
        "\n",
        "                if best_j != -1 and best_j not in matched_trues:\n",
        "                    TP += 1\n",
        "                    matched_preds.add(i)\n",
        "                    matched_trues.add(best_j)\n",
        "\n",
        "            # Count false positives and false negatives\n",
        "            FP += len(preds) - len(matched_preds)\n",
        "            FN += len(trues) - len(matched_trues)\n",
        "\n",
        "        precision = TP / (TP + FP + 1e-6)\n",
        "        recall = TP / (TP + FN + 1e-6)\n",
        "        f1_score = 2 * (precision * recall) / (precision + recall + 1e-6)\n",
        "\n",
        "        return precision, recall, f1_score\n",
        "\n",
        "    def plot_precision_recall_curve(self, pred_boxes, true_boxes, class_idx=None):\n",
        "\n",
        "        if class_idx is not None:\n",
        "            # Filter for specific class\n",
        "            pred_boxes = [box for box in pred_boxes if box[1] == class_idx]\n",
        "            true_boxes = [box for box in true_boxes if box[1] == class_idx]\n",
        "            title = f\"Precision-Recall Curve - {self.class_names[class_idx]}\"\n",
        "        else:\n",
        "            title = \"Overall Precision-Recall Curve\"\n",
        "\n",
        "        # Extract confidence scores and binary labels\n",
        "        confidences = [box[2] for box in pred_boxes]\n",
        "\n",
        "        # Create binary labels (1 if there's a matching ground truth, 0 otherwise)\n",
        "        binary_labels = []\n",
        "        for pred in pred_boxes:\n",
        "            matched = False\n",
        "            for true_box in true_boxes:\n",
        "                if (pred[0] == true_box[0] and  # Same image\n",
        "                    pred[1] == true_box[1]):     # Same class\n",
        "\n",
        "                    iou_score = iou(\n",
        "                        torch.tensor(pred[3:]),\n",
        "                        torch.tensor(true_box[3:]),\n",
        "                        is_pred=True\n",
        "                    )\n",
        "                    if iou_score > self.iou_threshold:\n",
        "                        matched = True\n",
        "                        break\n",
        "            binary_labels.append(1 if matched else 0)\n",
        "\n",
        "        if len(set(binary_labels)) > 1:  # Need both positive and negative samples\n",
        "            precision, recall, _ = precision_recall_curve(binary_labels, confidences)\n",
        "            ap = average_precision_score(binary_labels, confidences)\n",
        "\n",
        "            plt.figure(figsize=(8, 6))\n",
        "            plt.plot(recall, precision, linewidth=2, label=f'AP = {ap:.3f}')\n",
        "            plt.xlabel('Recall')\n",
        "            plt.ylabel('Precision')\n",
        "            plt.title(title)\n",
        "            plt.legend()\n",
        "            plt.grid(True)\n",
        "            plt.show()\n",
        "\n",
        "    def evaluate_model(self, test_loader, model, device, anchors):\n",
        "\n",
        "        print(\"Getting predictions and ground truth boxes...\")\n",
        "        pred_boxes, true_boxes = self.get_evaluation_bboxes(\n",
        "            test_loader, model, device, anchors\n",
        "        )\n",
        "\n",
        "        print(f\"Total predictions: {len(pred_boxes)}\")\n",
        "        print(f\"Total ground truth boxes: {len(true_boxes)}\")\n",
        "\n",
        "        # Calculate mAP\n",
        "        print(\"Calculating mAP...\")\n",
        "        mAP, class_APs = self.mean_average_precision(pred_boxes, true_boxes)\n",
        "\n",
        "        # Calculate precision, recall, F1\n",
        "        print(\"Calculating precision, recall, F1...\")\n",
        "        precision, recall, f1_score = self.calculate_precision_recall(pred_boxes, true_boxes)\n",
        "\n",
        "        # Create results dictionary\n",
        "        results = {\n",
        "            'mAP': float(mAP),\n",
        "            'precision': float(precision),\n",
        "            'recall': float(recall),\n",
        "            'f1_score': float(f1_score),\n",
        "            'class_APs': [float(ap) for ap in class_APs]\n",
        "        }\n",
        "\n",
        "        # Print results\n",
        "        print(\"\\n\" + \"=\"*50)\n",
        "        print(\"EVALUATION RESULTS\")\n",
        "        print(\"=\"*50)\n",
        "        print(f\"mAP@{self.iou_threshold}: {mAP:.4f}\")\n",
        "        print(f\"Precision: {precision:.4f}\")\n",
        "        print(f\"Recall: {recall:.4f}\")\n",
        "        print(f\"F1 Score: {f1_score:.4f}\")\n",
        "        print(\"\\nPer-class Average Precision:\")\n",
        "        print(\"-\" * 30)\n",
        "\n",
        "        for i, ap in enumerate(class_APs):\n",
        "            if i < len(self.class_names):\n",
        "                print(f\"{self.class_names[i]:<15}: {ap:.4f}\")\n",
        "\n",
        "        return results\n",
        "\n",
        "# Usage example with your existing code:\n",
        "def evaluate_yolo_performance():\n",
        "\n",
        "    # Initialize metrics calculator for your 2-class problem\n",
        "    metrics = YOLOMetrics(num_classes=2, iou_threshold=0.5, conf_threshold=0.6)\n",
        "\n",
        "    # Prepare anchors (make sure this matches your ANCHORS format)\n",
        "    anchors = (\n",
        "        torch.tensor(ANCHORS)\n",
        "        * torch.tensor([13, 26, 52]).unsqueeze(1).unsqueeze(1).repeat(1, 3, 2)\n",
        "    ).to(device)\n",
        "\n",
        "    # Evaluate the model\n",
        "    results = metrics.evaluate_model(test_loader, model, device, anchors)\n",
        "\n",
        "    # Plot precision-recall curves for your classes\n",
        "    pred_boxes, true_boxes = metrics.get_evaluation_bboxes(\n",
        "        test_loader, model, device, anchors\n",
        "    )\n",
        "\n",
        "    # Plot PR curve for 'signature' class (index 0)\n",
        "    metrics.plot_precision_recall_curve(pred_boxes, true_boxes, class_idx=0)\n",
        "\n",
        "    # Plot PR curve for 'seal' class (index 1)\n",
        "    metrics.plot_precision_recall_curve(pred_boxes, true_boxes, class_idx=1)\n",
        "\n",
        "    return results\n",
        "\n",
        "# Run the evaluation\n",
        "# results = evaluate_yolo_performance()"
      ],
      "metadata": {
        "id": "YTD1IqdPQKto"
      },
      "execution_count": null,
      "outputs": []
    }
  ]
}